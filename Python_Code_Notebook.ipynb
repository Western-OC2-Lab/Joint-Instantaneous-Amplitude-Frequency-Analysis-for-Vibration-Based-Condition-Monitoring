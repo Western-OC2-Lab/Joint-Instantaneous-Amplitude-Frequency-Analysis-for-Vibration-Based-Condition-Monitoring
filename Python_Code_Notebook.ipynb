{
 "cells": [
  {
   "cell_type": "code",
   "execution_count": 1,
   "metadata": {},
   "outputs": [],
   "source": [
    "import glob\n",
    "from scipy.io import loadmat\n",
    "import matplotlib.pyplot as plt\n",
    "import numpy as np\n",
    "import numpy.matlib\n",
    "from scipy.signal import hilbert\n",
    "from scipy.stats import entropy\n",
    "import scipy\n",
    "import re\n",
    "import os\n",
    "import pandas as pd\n",
    "from collections import Counter\n",
    "from sklearn import metrics\n",
    "\n",
    "np.random.seed(42)\n",
    "\n",
    "import warnings \n",
    "warnings.filterwarnings('ignore')"
   ]
  },
  {
   "cell_type": "code",
   "execution_count": 2,
   "metadata": {},
   "outputs": [],
   "source": [
    "# Function to obtain instantaneous amplitude, instantaneous phase, and instantaneous frequency\n",
    "\n",
    "def HT_analysis(x, fs):\n",
    "    analytical_signal = hilbert(x)\n",
    "    instantaneous_amplitude = np.abs(analytical_signal)\n",
    "    instantaneous_phase = np.unwrap(np.angle(analytical_signal))\n",
    "    instantaneous_frequency = np.abs( np.diff(instantaneous_phase) / (2.0*np.pi) * fs   )\n",
    "    \n",
    "    return instantaneous_amplitude[:-1], instantaneous_phase[:-1], instantaneous_frequency"
   ]
  },
  {
   "cell_type": "code",
   "execution_count": 3,
   "metadata": {},
   "outputs": [],
   "source": [
    "# function to create dataset\n",
    "\n",
    "def make_dataset(data_src, num_samples, class_):\n",
    "    files = glob.glob(data_src)\n",
    "    files = np.sort(files)\n",
    "    data = loadmat(files[0])\n",
    "    keysList = sorted(data.keys())\n",
    "    key = keysList[0]\n",
    "    drive_end_data = data[key]['Y'][0][0][0][6][2]\n",
    "    drive_end_data = drive_end_data.reshape(-1)\n",
    "    num_segments = np.floor(len(drive_end_data)/num_samples)\n",
    "    slices = np.split(drive_end_data[0:int(num_segments*num_samples)], num_samples)\n",
    "    silces = np.array(slices).reshape(int(num_segments), num_samples)\n",
    "    segmented_data = silces\n",
    "    files = files[1:]\n",
    "    for file in files:\n",
    "        data = loadmat(file)\n",
    "        keysList = sorted(data.keys())\n",
    "        key = keysList[0]\n",
    "        drive_end_data = data[key]['Y'][0][0][0][6][2]\n",
    "        drive_end_data = drive_end_data.reshape(-1)\n",
    "        num_segments = np.floor(len(drive_end_data)/num_samples)\n",
    "        slices = np.split(drive_end_data[0:int(num_segments*num_samples)], num_samples)\n",
    "        silces = np.array(slices).reshape(int(num_segments), num_samples)\n",
    "        segmented_data = np.concatenate( (segmented_data, silces) , axis=0, out=None)\n",
    "    \n",
    "    segmented_data = np.unique(segmented_data, axis= 0) # remove duplicates\n",
    "    #np.random.shuffle( segmented_data) # suffule the data\n",
    "    Class_ = np.ones(len(segmented_data))*class_\n",
    "    print(segmented_data.shape)\n",
    "    print(Class_.shape)\n",
    "    \n",
    "    return segmented_data, Class_"
   ]
  },
  {
   "cell_type": "markdown",
   "metadata": {},
   "source": [
    "==========================================================================================================================\n",
    "# Dataset Creatioin:\n",
    "=========================================================================================================================== "
   ]
  },
  {
   "cell_type": "markdown",
   "metadata": {},
   "source": [
    "## Grouping vibration signals in required folders to  generate datasets\n",
    " \n",
    "Link to download the PU dataset: https://mb.uni-paderborn.de/kat/forschung/kat-datacenter/bearing-datacenter/data-sets-and-download <br>\n",
    "After downloading the dataset, vibration signals to be grouped according to their operational conditions/properties in 4 folders (corresponding to number of operational classes in the dataset: 1 normal class and 3 faulty classes) with below folder names:\n",
    "\n",
    "1.\tHealthy\n",
    "2.\tIR&OR\n",
    "3.\tIR\n",
    "4.\tOR\n",
    "\n",
    "*IR&OR =  Inner Race faults and Outter Race faults <br>\n",
    "*IR = Inner Race fault <br>\n",
    "*OR = Outer Race faults <br>\n",
    "\n"
   ]
  },
  {
   "cell_type": "code",
   "execution_count": 4,
   "metadata": {},
   "outputs": [],
   "source": [
    "num_samples = 6400 # Length of input vibration segment\n",
    "###########################################\n",
    "fs = 64000; # Sampling freq."
   ]
  },
  {
   "cell_type": "code",
   "execution_count": 5,
   "metadata": {},
   "outputs": [
    {
     "name": "stdout",
     "output_type": "stream",
     "text": [
      "(4804, 6400)\n",
      "(4804,)\n",
      "(2398, 6400)\n",
      "(2398,)\n",
      "(4803, 6400)\n",
      "(4803,)\n",
      "(4000, 6400)\n",
      "(4000,)\n"
     ]
    }
   ],
   "source": [
    "data_path = (r\"D:\\dataset\")\n",
    "cls_1 = 'Healthy/*'; cls_2 = 'IR&OR/*'; cls_3 = 'IR/*'; cls_4 = 'OR/*'\n",
    "\n",
    "norm, y_norm   = make_dataset(os.path.join(data_path, cls_1), num_samples, 0)\n",
    "defc1, y_defc1 = make_dataset(os.path.join(data_path, cls_2), num_samples, 1)\n",
    "defc2, y_defc2 = make_dataset(os.path.join(data_path, cls_3), num_samples, 2)\n",
    "defc3, y_defc3 = make_dataset(os.path.join(data_path, cls_4), num_samples, 3)\n"
   ]
  },
  {
   "cell_type": "code",
   "execution_count": 6,
   "metadata": {},
   "outputs": [
    {
     "name": "stdout",
     "output_type": "stream",
     "text": [
      "data set features size: (16005, 6400)\n",
      "data set labels size: (16005,)\n"
     ]
    }
   ],
   "source": [
    "X = np.concatenate( (norm, defc1, defc2, defc3) , axis=0, out=None) # dataset fo vibration signals\n",
    "Y = np.concatenate( (y_norm, y_defc1, y_defc2, y_defc3), axis=0, out=None) # Labels\n",
    "\n",
    "print(\"data set features size:\", X.shape)\n",
    "print(\"data set labels size:\", Y.shape)"
   ]
  },
  {
   "cell_type": "code",
   "execution_count": 7,
   "metadata": {
    "scrolled": true
   },
   "outputs": [
    {
     "name": "stdout",
     "output_type": "stream",
     "text": [
      "Segment duration in seconds: 0.1\n"
     ]
    }
   ],
   "source": [
    "print(\"Segment duration in seconds:\", num_samples/fs)"
   ]
  },
  {
   "cell_type": "markdown",
   "metadata": {},
   "source": [
    "==========================================================================================================================\n",
    "# Feature Extraction:\n",
    "=========================================================================================================================== "
   ]
  },
  {
   "cell_type": "code",
   "execution_count": 8,
   "metadata": {},
   "outputs": [],
   "source": [
    "def HT_spectral_features(x, fs):\n",
    "    \n",
    "    \n",
    "    # Hilbert Transfrom:\n",
    "    envelope, instantaneous_phase, instantaneous_freq =  HT_analysis(x, fs)\n",
    "    \n",
    "    # 1- Instantaneous Amplitude-Frequency Mapping (IAFM)\n",
    "    #Normalize the PSD to compute the spectral features correctly:\n",
    "    env_norm = envelope / np.sum(envelope)\n",
    "    #Features:\n",
    "    spectral_centroid = np.sum(instantaneous_freq * env_norm)\n",
    "    spectral_spread = np.sqrt(np.sum(((instantaneous_freq - spectral_centroid) ** 2) * env_norm))\n",
    "    coefficient_of_variation = (spectral_spread/spectral_centroid)*100\n",
    "    \n",
    "    #2- Instantaneous Amplitude-Frequency Correlation (IAFC)\n",
    "    cor = scipy.signal.correlate(envelope, instantaneous_freq, mode='same', method = 'fft')\n",
    "    #Features:\n",
    "    cor_peak = np.max(cor) # Peak amp.\n",
    "    peak_lag = np.argmax(cor) # Lag at max. corr.\n",
    "    \n",
    "    \n",
    "    #3- Instantaneous Energy-Frequency Distribution (IEFD)\n",
    "    amp_freq = (envelope**2  /np.sum(envelope**2)) * (instantaneous_freq/np.sum(instantaneous_freq )) \n",
    "    #Features:\n",
    "    count = Counter(amp_freq)\n",
    "    # Calculate the probabilities of each unique value\n",
    "    probabilities = [frequency / len(amp_freq) for frequency in count.values()]\n",
    "    mean_entropy = np.mean(amp_freq)  / entropy(probabilities)\n",
    "   \n",
    "    return spectral_centroid, spectral_spread, coefficient_of_variation, \\\n",
    "    cor_peak, peak_lag, mean_entropy"
   ]
  },
  {
   "cell_type": "code",
   "execution_count": 9,
   "metadata": {},
   "outputs": [
    {
     "name": "stdout",
     "output_type": "stream",
     "text": [
      "(16005, 6)\n"
     ]
    }
   ],
   "source": [
    "num_signals = len(X)\n",
    "num_features = 6\n",
    "feature_matrix = np.zeros((num_signals, num_features))  # Initialize a matrix to store the features\n",
    "\n",
    "for i in range(num_signals):\n",
    "    spectral_centroid, spectral_spread, coefficient_of_variation, \\\n",
    "    cor_peak, peak_lag, mean_to_entropy = HT_spectral_features(X[i], fs)\n",
    "    \n",
    "    # Store the features in the matrix\n",
    "    feature_matrix[i, :] = [spectral_centroid, spectral_spread, coefficient_of_variation, \\\n",
    "    cor_peak, peak_lag, mean_to_entropy]\n",
    "    \n",
    "print(feature_matrix.shape)"
   ]
  },
  {
   "cell_type": "markdown",
   "metadata": {},
   "source": [
    "===========================================================================================================================\n",
    "# Classification:\n",
    "==========================================================================================================================="
   ]
  },
  {
   "cell_type": "code",
   "execution_count": 10,
   "metadata": {},
   "outputs": [],
   "source": [
    "from sklearn.model_selection import train_test_split\n",
    "from sklearn.preprocessing import StandardScaler\n",
    "import seaborn as sns\n",
    "from sklearn.ensemble import RandomForestClassifier\n",
    "from sklearn.metrics import roc_curve\n",
    "from sklearn.metrics import roc_auc_score\n",
    "from sklearn.metrics import accuracy_score, confusion_matrix"
   ]
  },
  {
   "cell_type": "code",
   "execution_count": 11,
   "metadata": {},
   "outputs": [],
   "source": [
    "labels = pd.Categorical(Y)"
   ]
  },
  {
   "cell_type": "code",
   "execution_count": 12,
   "metadata": {},
   "outputs": [],
   "source": [
    "X_train, X_test, y_train, y_test = train_test_split(feature_matrix, labels, test_size = 0.3, \n",
    "                                                    shuffle = True, stratify = labels, random_state = 42)"
   ]
  },
  {
   "cell_type": "code",
   "execution_count": 13,
   "metadata": {},
   "outputs": [
    {
     "name": "stdout",
     "output_type": "stream",
     "text": [
      "Training set size: (11203, 6)\n"
     ]
    }
   ],
   "source": [
    "print(\"Training set size:\", X_train.shape)\n",
    "\n"
   ]
  },
  {
   "cell_type": "code",
   "execution_count": 14,
   "metadata": {},
   "outputs": [
    {
     "name": "stdout",
     "output_type": "stream",
     "text": [
      "Test set size: (4802, 6)\n"
     ]
    }
   ],
   "source": [
    "print(\"Test set size:\", X_test.shape)"
   ]
  },
  {
   "cell_type": "code",
   "execution_count": 15,
   "metadata": {},
   "outputs": [],
   "source": [
    "scaler =StandardScaler() \n",
    "train_data_scaled = scaler.fit_transform(X_train)\n",
    "test_data_scaled = scaler.transform(X_test)"
   ]
  },
  {
   "cell_type": "code",
   "execution_count": 16,
   "metadata": {},
   "outputs": [],
   "source": [
    "clf_RF = RandomForestClassifier(criterion='gini', max_features = 'log2', min_samples_leaf=1, min_samples_split=2, \n",
    "                                max_depth= 200, n_estimators=1000, random_state= 42)\n",
    "best_clf = clf_RF.fit(train_data_scaled, y_train)"
   ]
  },
  {
   "cell_type": "code",
   "execution_count": 17,
   "metadata": {},
   "outputs": [
    {
     "name": "stdout",
     "output_type": "stream",
     "text": [
      "ROC AUC = 1.000\n",
      "F1 Score = 0.9960433152852978\n",
      "Accuracy = 99.604 %\n"
     ]
    },
    {
     "data": {
      "image/png": "[encoded data removed]",
      "text/plain": [
       "<Figure size 1296x576 with 2 Axes>"
      ]
     },
     "metadata": {
      "needs_background": "light"
     },
     "output_type": "display_data"
    }
   ],
   "source": [
    "test_predictions = best_clf.predict(test_data_scaled)\n",
    "test_confu_matrix = confusion_matrix(y_test, test_predictions)\n",
    "fault_type = ['Healthy','Combined faults','IR faults','OR faults']\n",
    "plt.figure(1,figsize=(18,8))\n",
    "sns.set(font_scale=2)\n",
    "sns.heatmap(test_confu_matrix, annot= True,fmt = \"d\",\n",
    "xticklabels=fault_type, yticklabels=fault_type, cmap = \"Blues\", annot_kws={\"size\": 30})\n",
    "plt.xlabel('Predicted Calss', fontsize = 30)\n",
    "plt.ylabel('True Class', fontsize = 30)\n",
    "Accuracy = metrics.accuracy_score(y_test, test_predictions)\n",
    "F1_score = metrics.f1_score(y_test, test_predictions, average='micro')\n",
    "probs = best_clf.predict_proba(test_data_scaled)\n",
    "lr_auc = roc_auc_score(y_test, probs, multi_class='ovr')\n",
    "print('ROC AUC = %.3f' % (lr_auc))\n",
    "print(\"F1 Score =\", F1_score)\n",
    "print(\"Accuracy = %.3f\" % (Accuracy*100), \"%\")"
   ]
  },
  {
   "cell_type": "code",
   "execution_count": null,
   "metadata": {},
   "outputs": [],
   "source": []
  }
 ],
 "metadata": {
  "kernelspec": {
   "display_name": "Python 3 (ipykernel)",
   "language": "python",
   "name": "python3"
  },
  "language_info": {
   "codemirror_mode": {
    "name": "ipython",
    "version": 3
   },
   "file_extension": ".py",
   "mimetype": "text/x-python",
   "name": "python",
   "nbconvert_exporter": "python",
   "pygments_lexer": "ipython3",
   "version": "3.9.12"
  }
 },
 "nbformat": 4,
 "nbformat_minor": 4
}
